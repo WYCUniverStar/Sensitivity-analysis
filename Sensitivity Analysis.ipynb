{
 "cells": [
  {
   "cell_type": "code",
   "execution_count": 1,
   "id": "b252869b",
   "metadata": {},
   "outputs": [],
   "source": [
    "from SALib.sample import saltelli\n",
    "from SALib.analyze import sobol\n",
    "import numpy as np\n",
    "import math\n",
    "from SALib.plotting.bar import plot as barplot\n",
    "import matplotlib.pyplot as plot\n",
    "\n",
    "a0 = 0.1\n",
    "b0 = 1\n",
    "a1 = 2\n",
    "b1 = 1\n",
    "sample_points_2_index = 10 #采样点，2^n个point\n",
    "\n",
    "# Define the model inputs\n",
    "problem = {\n",
    "    'num_vars': 3,\n",
    "    'names': ['x1', 'x2', 'x3'],\n",
    "    'bounds': [[-3.14159265359, 3.14159265359],\n",
    "               [-3.14159265359, 3.14159265359],\n",
    "               [-3.14159265359, 3.14159265359]]\n",
    "}\n",
    "\n",
    "def evaluate0(X):  # 这里是我们要进行灵敏度分析的模型,接受一个数组,每个数组元素作为模型的一个输入,模型的输出是一个float,干函数返回的时候再讲所有输出并起来\n",
    "    global a0,b0\n",
    "    return np.array([ np.sin(x[0]) + a0*np.sin(x[1])**2 + b0*x[2]**4*np.sin(x[0]) for x in X])\n",
    "\n",
    "def evaluate1(X):  # 这里是我们要进行灵敏度分析的模型,接受一个数组,每个数组元素作为模型的一个输入,模型的输出是一个float,干函数返回的时候再讲所有输出并起来\n",
    "    global a1,b1\n",
    "    return np.array([ np.sin(x[0]) + a1*np.sin(x[1])**2 + b1*x[2]**4*np.sin(x[0]) for x in X])\n",
    "    #return np.array([math.sin(x[0]) + x[1] * math.cos(2 * x[2]) for x in X])"
   ]
  },
  {
   "cell_type": "code",
   "execution_count": 2,
   "id": "5e432af1",
   "metadata": {},
   "outputs": [
    {
     "name": "stderr",
     "output_type": "stream",
     "text": [
      "C:\\Users\\12550\\AppData\\Local\\Temp/ipykernel_26008/491612733.py:1: DeprecationWarning: `salib.sample.saltelli` will be removed in SALib 1.5. Please use `salib.sample.sobol`\n",
      "  param_values = saltelli.sample(problem, 2**sample_points_2_index)\n"
     ]
    },
    {
     "data": {
      "text/plain": [
       "((8192, 3), (8192,), (8192,))"
      ]
     },
     "execution_count": 2,
     "metadata": {},
     "output_type": "execute_result"
    }
   ],
   "source": [
    "param_values = saltelli.sample(problem, 2**sample_points_2_index)\n",
    "Y0 = evaluate0(param_values)\n",
    "Y1 = evaluate1(param_values)\n",
    "param_values.shape, Y0.shape, Y1.shape"
   ]
  },
  {
   "cell_type": "code",
   "execution_count": 3,
   "id": "7e60e371",
   "metadata": {},
   "outputs": [
    {
     "name": "stdout",
     "output_type": "stream",
     "text": [
      "Sensitivity Analysis of f0(a=0.1, b=1)\n",
      " \n",
      "          ST       ST_conf\n",
      "x1  0.998083  1.525842e-01\n",
      "x2  0.000002  3.021276e-07\n",
      "x3  0.620395  6.572455e-02\n",
      "          S1   S1_conf\n",
      "x1  0.405810  0.092823\n",
      "x2  0.000009  0.000131\n",
      "x3  0.037057  0.110886\n",
      "                S2   S2_conf\n",
      "(x1, x2)  0.011841  0.058786\n",
      "(x1, x3)  0.595220  0.180540\n",
      "(x2, x3) -0.000018  0.000195\n",
      "\n",
      "---------------------------------\n",
      "Sensitivity Analysis of f1(a=2, b=1)\n",
      " \n",
      "          ST   ST_conf\n",
      "x1  0.997065  0.153520\n",
      "x2  0.000914  0.000121\n",
      "x3  0.619763  0.057193\n",
      "          S1   S1_conf\n",
      "x1  0.405022  0.076786\n",
      "x2  0.001049  0.002580\n",
      "x3  0.036853  0.104224\n",
      "                S2   S2_conf\n",
      "(x1, x2)  0.012143  0.052487\n",
      "(x1, x3)  0.594848  0.149313\n",
      "(x2, x3) -0.000354  0.003685\n",
      "\n"
     ]
    }
   ],
   "source": [
    "print(\"Sensitivity Analysis of f0(a=0.1, b=1)\")\n",
    "print(\" \")\n",
    "Si = sobol.analyze(problem, Y0, print_to_console=True)\n",
    "print()\n",
    "print(\"---------------------------------\")\n",
    "print(\"Sensitivity Analysis of f1(a=2, b=1)\")\n",
    "print(\" \")\n",
    "Si = sobol.analyze(problem, Y1, print_to_console=True)\n",
    "print()"
   ]
  },
  {
   "cell_type": "code",
   "execution_count": 4,
   "id": "73499be3",
   "metadata": {},
   "outputs": [
    {
     "data": {
      "image/png": "[encoded data removed]",
      "text/plain": [
       "<Figure size 432x288 with 1 Axes>"
      ]
     },
     "metadata": {
      "needs_background": "light"
     },
     "output_type": "display_data"
    }
   ],
   "source": [
    "Si_df = Si.to_df()\n",
    "barplot(Si_df[0])\n",
    "plot.savefig(\"ST.svg\", dpi=300,format=\"svg\")\n",
    "plot.show()"
   ]
  },
  {
   "cell_type": "code",
   "execution_count": 5,
   "id": "dfa3855c",
   "metadata": {},
   "outputs": [
    {
     "data": {
      "image/png": "[encoded data removed]",
      "text/plain": [
       "<Figure size 432x288 with 1 Axes>"
      ]
     },
     "metadata": {
      "needs_background": "light"
     },
     "output_type": "display_data"
    }
   ],
   "source": [
    "barplot(Si_df[1])\n",
    "plot.savefig(\"S1.svg\", dpi=300,format=\"svg\")\n",
    "plot.show()"
   ]
  },
  {
   "cell_type": "code",
   "execution_count": 6,
   "id": "94e5b4d0",
   "metadata": {},
   "outputs": [
    {
     "data": {
      "image/png": "[encoded data removed]",
      "text/plain": [
       "<Figure size 432x288 with 1 Axes>"
      ]
     },
     "metadata": {
      "needs_background": "light"
     },
     "output_type": "display_data"
    }
   ],
   "source": [
    "barplot(Si_df[2])\n",
    "plot.savefig(\"S2.svg\", dpi=300,format=\"svg\")\n",
    "plot.show()"
   ]
  },
  {
   "cell_type": "code",
   "execution_count": null,
   "id": "ab18da6c",
   "metadata": {},
   "outputs": [],
   "source": []
  }
 ],
 "metadata": {
  "kernelspec": {
   "display_name": "Python [conda env:root] *",
   "language": "python",
   "name": "conda-root-py"
  },
  "language_info": {
   "codemirror_mode": {
    "name": "ipython",
    "version": 3
   },
   "file_extension": ".py",
   "mimetype": "text/x-python",
   "name": "python",
   "nbconvert_exporter": "python",
   "pygments_lexer": "ipython3",
   "version": "3.8.11"
  }
 },
 "nbformat": 4,
 "nbformat_minor": 5
}
