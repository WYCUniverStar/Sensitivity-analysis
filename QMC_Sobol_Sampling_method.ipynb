{
 "cells": [
  {
   "cell_type": "code",
   "execution_count": 267,
   "id": "43b8332b",
   "metadata": {},
   "outputs": [],
   "source": [
    "from scipy.stats import qmc\n",
    "from math import *\n",
    "import numpy as np\n",
    "a0 = 0.1\n",
    "b0 = 1\n",
    "a1 = 2\n",
    "b1 = 1\n",
    "sample_points_2_index = 25 #采样点，2^n个point"
   ]
  },
  {
   "cell_type": "code",
   "execution_count": 268,
   "id": "0a050243",
   "metadata": {},
   "outputs": [
    {
     "data": {
      "text/plain": [
       "<scipy.stats._qmc.Sobol at 0x1eaed3cb790>"
      ]
     },
     "execution_count": 268,
     "metadata": {},
     "output_type": "execute_result"
    }
   ],
   "source": [
    "sampler = qmc.Sobol(d=3, scramble=False)\n",
    "sampler"
   ]
  },
  {
   "cell_type": "code",
   "execution_count": 269,
   "id": "78bedb29",
   "metadata": {
    "scrolled": true
   },
   "outputs": [
    {
     "data": {
      "text/plain": [
       "(array([[0.00000000e+00, 0.00000000e+00, 0.00000000e+00],\n",
       "        [5.00000000e-01, 5.00000000e-01, 5.00000000e-01],\n",
       "        [7.50000000e-01, 2.50000000e-01, 2.50000000e-01],\n",
       "        ...,\n",
       "        [7.50000030e-01, 7.51960784e-01, 7.50013858e-01],\n",
       "        [5.00000030e-01, 1.96078420e-03, 1.38580799e-05],\n",
       "        [2.98023224e-08, 5.01960784e-01, 5.00013858e-01]]),\n",
       " numpy.ndarray,\n",
       " (33554432, 3))"
      ]
     },
     "execution_count": 269,
     "metadata": {},
     "output_type": "execute_result"
    }
   ],
   "source": [
    "sample = sampler.random_base2(m=sample_points_2_index)\n",
    "sample, type(sample), sample.shape"
   ]
  },
  {
   "cell_type": "code",
   "execution_count": 270,
   "id": "0a625c78",
   "metadata": {},
   "outputs": [],
   "source": [
    "l_bounds = -3.14\n",
    "u_bounds = 3.14"
   ]
  },
  {
   "cell_type": "code",
   "execution_count": 271,
   "id": "d318ee9b",
   "metadata": {},
   "outputs": [
    {
     "data": {
      "text/plain": [
       "array([[-3.14000000e+00, -3.14000000e+00, -3.14000000e+00],\n",
       "       [ 0.00000000e+00,  0.00000000e+00,  0.00000000e+00],\n",
       "       [ 1.57000000e+00, -1.57000000e+00, -1.57000000e+00],\n",
       "       ...,\n",
       "       [ 1.57000019e+00,  1.58231372e+00,  1.57008703e+00],\n",
       "       [ 1.87158585e-07, -3.12768628e+00, -3.13991297e+00],\n",
       "       [-3.13999981e+00,  1.23137248e-02,  8.70287418e-05]])"
      ]
     },
     "execution_count": 271,
     "metadata": {},
     "output_type": "execute_result"
    }
   ],
   "source": [
    "fianl_sample = qmc.scale(sample, l_bounds, u_bounds)\n",
    "fianl_sample"
   ]
  },
  {
   "cell_type": "markdown",
   "id": "a589d5b6",
   "metadata": {},
   "source": [
    "-------------------------------------------下面三块代码是测试代码，无需理会-------------------------------"
   ]
  },
  {
   "cell_type": "code",
   "execution_count": 272,
   "id": "ba36cdb6",
   "metadata": {},
   "outputs": [
    {
     "data": {
      "text/plain": [
       "(0.9999996829318346, 0.49999932831201965)"
      ]
     },
     "execution_count": 272,
     "metadata": {},
     "output_type": "execute_result"
    }
   ],
   "source": [
    "sin(1.57),sin(0.523598)"
   ]
  },
  {
   "cell_type": "code",
   "execution_count": 278,
   "id": "03873b7e",
   "metadata": {},
   "outputs": [
    {
     "data": {
      "text/plain": [
       "(array([[-3.14000000e+00, -3.14000000e+00, -3.14000000e+00],\n",
       "        [ 0.00000000e+00,  0.00000000e+00,  0.00000000e+00],\n",
       "        [ 1.57000000e+00, -1.57000000e+00, -1.57000000e+00],\n",
       "        ...,\n",
       "        [ 1.57000019e+00,  1.58231372e+00,  1.57008703e+00],\n",
       "        [ 1.87158585e-07, -3.12768628e+00, -3.13991297e+00],\n",
       "        [-3.13999981e+00,  1.23137248e-02,  8.70287418e-05]]),\n",
       " array([[0.99999968, 0.99999968, 0.99999968],\n",
       "        [0.49999933, 0.49999933, 0.49999933]]))"
      ]
     },
     "execution_count": 278,
     "metadata": {},
     "output_type": "execute_result"
    }
   ],
   "source": [
    "#textnp = np.array(([1,2,3],[4,5,6]))\n",
    "#textnp = np.array(([1.57,1.57,1.57],[0.523598,0.523598,0.523598]))\n",
    "textnp = fianl_sample\n",
    "textnp,np.sin(np.array(([1.57,1.57,1.57],[0.523598,0.523598,0.523598])))"
   ]
  },
  {
   "cell_type": "code",
   "execution_count": 274,
   "id": "922f19d6",
   "metadata": {},
   "outputs": [
    {
     "data": {
      "text/plain": [
       "array([-1.56416916e-01,  0.00000000e+00,  7.17572970e+00, ...,\n",
       "        7.17706378e+00,  3.77166373e-05, -1.57767806e-03])"
      ]
     },
     "execution_count": 274,
     "metadata": {},
     "output_type": "execute_result"
    }
   ],
   "source": [
    "#f0 = np.zeros([2, 3])\n",
    "#f0\n",
    "#f0 = sin(textnp[:,0]) + a0*sin(textnp[:,1])**2 + b0*textnp[:,2]**4*sin(textnp[:,0])\n",
    "f0_text = np.sin(textnp[:,0]) + a0*np.sin(textnp[:,1])**2 + b0*textnp[:,2]**4*np.sin(textnp[:,0])\n",
    "f0_text"
   ]
  },
  {
   "cell_type": "markdown",
   "id": "d32c7c80",
   "metadata": {},
   "source": [
    "-------------------------------------------测试代码结束-------------------------------"
   ]
  },
  {
   "cell_type": "code",
   "execution_count": 275,
   "id": "220d4ff3",
   "metadata": {
    "scrolled": true
   },
   "outputs": [
    {
     "data": {
      "text/plain": [
       "(array([-1.56416916e-01,  0.00000000e+00,  7.17572970e+00, ...,\n",
       "         7.17706378e+00,  3.77166373e-05, -1.57767806e-03]),\n",
       " (33554432,),\n",
       " array([-1.56412097e-01,  0.00000000e+00,  9.07572850e+00, ...,\n",
       "         9.07681176e+00,  4.05128934e-04, -1.28959977e-03]),\n",
       " (33554432,))"
      ]
     },
     "execution_count": 275,
     "metadata": {},
     "output_type": "execute_result"
    }
   ],
   "source": [
    "f0 = np.sin(fianl_sample[:,0]) + a0*np.sin(fianl_sample[:,1])**2 + b0*fianl_sample[:,2]**4*np.sin(fianl_sample[:,0])\n",
    "f1 = np.sin(fianl_sample[:,0]) + a1*np.sin(fianl_sample[:,1])**2 + b1*fianl_sample[:,2]**4*np.sin(fianl_sample[:,0])\n",
    "f0,f0.shape,f1,f1.shape"
   ]
  },
  {
   "cell_type": "code",
   "execution_count": 276,
   "id": "572ab603",
   "metadata": {},
   "outputs": [
    {
     "data": {
      "text/plain": [
       "(0.05002535971277557, 545.2264962432521, 545.2264962432521)"
      ]
     },
     "execution_count": 276,
     "metadata": {},
     "output_type": "execute_result"
    }
   ],
   "source": [
    "aver_f0 = np.mean(f0)\n",
    "var_f0 = np.var(f0,ddof=0) # 第二个参数等于0代表就是正常的方差，如果算的是样本方差，就是分母是n-1的那个，则第二个参数设置为1\n",
    "aver_f0,var_f0,np.mean(abs(f0 - f0.mean())**2)"
   ]
  },
  {
   "cell_type": "code",
   "execution_count": 277,
   "id": "be556867",
   "metadata": {},
   "outputs": [
    {
     "data": {
      "text/plain": [
       "(1.0005072126910355, 545.7249930151016, 545.7249930151016)"
      ]
     },
     "execution_count": 277,
     "metadata": {},
     "output_type": "execute_result"
    }
   ],
   "source": [
    "aver_f1 = np.mean(f1)\n",
    "var_f1 = np.var(f1,ddof=0) # 第二个参数等于0代表就是正常的方差，如果算的是样本方差，就是分母是n-1的那个，则第二个参数设置为1\n",
    "aver_f1,var_f1,np.mean(abs(f1 - f1.mean())**2)"
   ]
  }
 ],
 "metadata": {
  "kernelspec": {
   "display_name": "Python [conda env:root] *",
   "language": "python",
   "name": "conda-root-py"
  },
  "language_info": {
   "codemirror_mode": {
    "name": "ipython",
    "version": 3
   },
   "file_extension": ".py",
   "mimetype": "text/x-python",
   "name": "python",
   "nbconvert_exporter": "python",
   "pygments_lexer": "ipython3",
   "version": "3.8.11"
  }
 },
 "nbformat": 4,
 "nbformat_minor": 5
}
