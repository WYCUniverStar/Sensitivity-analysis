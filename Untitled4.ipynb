{
 "cells": [
  {
   "cell_type": "code",
   "execution_count": 1,
   "id": "b252869b",
   "metadata": {},
   "outputs": [],
   "source": [
    "from SALib.sample import saltelli\n",
    "from SALib.analyze import sobol\n",
    "import numpy as np\n",
    "import math\n",
    "from SALib.plotting.bar import plot as barplot\n",
    "import matplotlib.pyplot as plot\n",
    "\n",
    "a0 = 0.1\n",
    "b0 = 1\n",
    "a1 = 2\n",
    "b1 = 1\n",
    "sample_points_2_index = 20 #采样点，2^n个point\n",
    "\n",
    "# Define the model inputs\n",
    "problem = {\n",
    "    'num_vars': 3,\n",
    "    'names': ['x1', 'x2', 'x3'],\n",
    "    'bounds': [[-3.14159265359, 3.14159265359],\n",
    "               [-3.14159265359, 3.14159265359],\n",
    "               [-3.14159265359, 3.14159265359]]\n",
    "}\n",
    "\n",
    "def evaluate0(X):  # 这里是我们要进行灵敏度分析的模型,接受一个数组,每个数组元素作为模型的一个输入,模型的输出是一个float,干函数返回的时候再讲所有输出并起来\n",
    "    global a0,b0\n",
    "    return np.array([ np.sin(x[0]) + 7*np.sin(x[1])**2 + 0.1*x[2]**4*np.sin(x[0]) for x in X])\n",
    "\n",
    "def evaluate1(X):  # 这里是我们要进行灵敏度分析的模型,接受一个数组,每个数组元素作为模型的一个输入,模型的输出是一个float,干函数返回的时候再讲所有输出并起来\n",
    "    global a1,b1\n",
    "    return np.array([ np.sin(x[0]) + a1*np.sin(x[1])**2 + b1*x[2]**4*np.sin(x[0]) for x in X])\n",
    "    #return np.array([math.sin(x[0]) + x[1] * math.cos(2 * x[2]) for x in X])"
   ]
  },
  {
   "cell_type": "code",
   "execution_count": 2,
   "id": "5e432af1",
   "metadata": {},
   "outputs": [
    {
     "name": "stderr",
     "output_type": "stream",
     "text": [
      "C:\\Users\\12550\\AppData\\Local\\Temp/ipykernel_21068/491612733.py:1: DeprecationWarning: `salib.sample.saltelli` will be removed in SALib 1.5. Please use `salib.sample.sobol`\n",
      "  param_values = saltelli.sample(problem, 2**sample_points_2_index)\n"
     ]
    },
    {
     "data": {
      "text/plain": [
       "((8388608, 3), (8388608,), (8388608,))"
      ]
     },
     "execution_count": 2,
     "metadata": {},
     "output_type": "execute_result"
    }
   ],
   "source": [
    "param_values = saltelli.sample(problem, 2**sample_points_2_index)\n",
    "Y0 = evaluate0(param_values)\n",
    "Y1 = evaluate1(param_values)\n",
    "param_values.shape, Y0.shape, Y1.shape"
   ]
  },
  {
   "cell_type": "code",
   "execution_count": 3,
   "id": "7e60e371",
   "metadata": {},
   "outputs": [
    {
     "name": "stdout",
     "output_type": "stream",
     "text": [
      "Sensitivity Analysis of f0(a=0.1, b=1)\n",
      " \n",
      "          ST   ST_conf\n",
      "x1  0.557589  0.002999\n",
      "x2  0.442411  0.001353\n",
      "x3  0.243684  0.000913\n",
      "              S1   S1_conf\n",
      "x1  3.139052e-01  0.001949\n",
      "x2  4.424112e-01  0.001879\n",
      "x3  2.282780e-08  0.001945\n",
      "                    S2   S2_conf\n",
      "(x1, x2) -2.888857e-08  0.002348\n",
      "(x1, x3)  2.436837e-01  0.003366\n",
      "(x2, x3) -3.048039e-08  0.002138\n",
      "\n",
      "---------------------------------\n",
      "Sensitivity Analysis of f1(a=2, b=1)\n",
      " \n",
      "          ST   ST_conf\n",
      "x1  0.999087  0.005374\n",
      "x2  0.000913  0.000004\n",
      "x3  0.616063  0.001788\n",
      "              S1   S1_conf\n",
      "x1  3.830239e-01  0.002635\n",
      "x2  9.130402e-04  0.000089\n",
      "x3  6.547701e-08  0.003195\n",
      "                    S2   S2_conf\n",
      "(x1, x2) -2.528322e-08  0.001891\n",
      "(x1, x3)  6.160631e-01  0.005013\n",
      "(x2, x3) -2.201665e-09  0.000126\n",
      "\n"
     ]
    }
   ],
   "source": [
    "print(\"Sensitivity Analysis of f0(a=0.1, b=1)\")\n",
    "print(\" \")\n",
    "Si = sobol.analyze(problem, Y0, print_to_console=True)\n",
    "print()\n",
    "print(\"---------------------------------\")\n",
    "print(\"Sensitivity Analysis of f1(a=2, b=1)\")\n",
    "print(\" \")\n",
    "Si = sobol.analyze(problem, Y1, print_to_console=True)\n",
    "print()"
   ]
  },
  {
   "cell_type": "code",
   "execution_count": 4,
   "id": "73499be3",
   "metadata": {},
   "outputs": [
    {
     "data": {
      "image/png": "[encoded data removed]",
      "text/plain": [
       "<Figure size 432x288 with 1 Axes>"
      ]
     },
     "metadata": {
      "needs_background": "light"
     },
     "output_type": "display_data"
    }
   ],
   "source": [
    "Si_df = Si.to_df()\n",
    "barplot(Si_df[0])\n",
    "plot.savefig(\"ST.svg\", dpi=300,format=\"svg\")\n",
    "plot.show()"
   ]
  },
  {
   "cell_type": "code",
   "execution_count": 5,
   "id": "dfa3855c",
   "metadata": {},
   "outputs": [
    {
     "data": {
      "image/png": "[encoded data removed]",
      "text/plain": [
       "<Figure size 432x288 with 1 Axes>"
      ]
     },
     "metadata": {
      "needs_background": "light"
     },
     "output_type": "display_data"
    }
   ],
   "source": [
    "barplot(Si_df[1])\n",
    "plot.savefig(\"S1.svg\", dpi=300,format=\"svg\")\n",
    "plot.show()"
   ]
  },
  {
   "cell_type": "code",
   "execution_count": 6,
   "id": "94e5b4d0",
   "metadata": {},
   "outputs": [
    {
     "data": {
      "image/png": "[encoded data removed]",
      "text/plain": [
       "<Figure size 432x288 with 1 Axes>"
      ]
     },
     "metadata": {
      "needs_background": "light"
     },
     "output_type": "display_data"
    }
   ],
   "source": [
    "barplot(Si_df[2])\n",
    "plot.savefig(\"S2.svg\", dpi=300,format=\"svg\")\n",
    "plot.show()"
   ]
  },
  {
   "cell_type": "code",
   "execution_count": null,
   "id": "ab18da6c",
   "metadata": {},
   "outputs": [],
   "source": []
  }
 ],
 "metadata": {
  "kernelspec": {
   "display_name": "Python [conda env:root] *",
   "language": "python",
   "name": "conda-root-py"
  },
  "language_info": {
   "codemirror_mode": {
    "name": "ipython",
    "version": 3
   },
   "file_extension": ".py",
   "mimetype": "text/x-python",
   "name": "python",
   "nbconvert_exporter": "python",
   "pygments_lexer": "ipython3",
   "version": "3.8.11"
  }
 },
 "nbformat": 4,
 "nbformat_minor": 5
}
