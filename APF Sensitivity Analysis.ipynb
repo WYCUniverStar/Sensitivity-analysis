{
 "cells": [
  {
   "cell_type": "code",
   "execution_count": 14,
   "id": "2441d8fb",
   "metadata": {},
   "outputs": [],
   "source": [
    "from SALib.sample import saltelli\n",
    "from SALib.analyze import sobol\n",
    "import numpy as np\n",
    "import math\n",
    "\n",
    "kexi = 0.1\n",
    "yita = 100.0\n",
    "Q_star = 5.0\n",
    "\n",
    "sample_points_2_index = 14 #采样点，2^n个point\n",
    "\n",
    "# Define the model inputs\n",
    "problem = {\n",
    "    'num_vars': 2,\n",
    "    'names': ['x1', 'x2'],\n",
    "    'bounds': [[0.0, 32.0],\n",
    "               [0.0, 32.0]]\n",
    "}\n",
    "\n",
    "# def evaluate0(X):  # 这里是我们要进行灵敏度分析的模型,接受一个数组,每个数组元素作为模型的一个输入,模型的输出是一个float,干函数返回的时候再讲所有输出并起来\n",
    "#     global a0,b0\n",
    "#     return np.array([ np.sin(x[0]) + a0*np.sin(x[1])**2 + b0*x[2]**4*np.sin(x[0]) for x in X])\n",
    "\n",
    "# def evaluate1(X):  # 这里是我们要进行灵敏度分析的模型,接受一个数组,每个数组元素作为模型的一个输入,模型的输出是一个float,干函数返回的时候再讲所有输出并起来\n",
    "#     global a1,b1\n",
    "#     return np.array([ np.sin(x[0]) + a1*np.sin(x[1])**2 + b1*x[2]**4*np.sin(x[0]) for x in X])\n",
    "#     #return np.array([math.sin(x[0]) + x[1] * math.cos(2 * x[2]) for x in X])\n",
    "    \n",
    "    \n",
    "def evaluate_APF(X):\n",
    "#     global kexi\n",
    "#     global yita\n",
    "#     global Q_star\n",
    "    return np.array([ 0.5*kexi*x[0]**2+0.5*yita*(1.0/x[1] - 1.0/Q_star)**2 for x in X])"
   ]
  },
  {
   "cell_type": "code",
   "execution_count": 15,
   "id": "4dc91985",
   "metadata": {
    "scrolled": false
   },
   "outputs": [
    {
     "name": "stderr",
     "output_type": "stream",
     "text": [
      "C:\\Users\\12550\\AppData\\Local\\Temp/ipykernel_1408/899700130.py:1: DeprecationWarning: `salib.sample.saltelli` will be removed in SALib 1.5. Please use `salib.sample.sobol`\n",
      "  param_values = saltelli.sample(problem, 2**sample_points_2_index)\n"
     ]
    },
    {
     "data": {
      "text/plain": [
       "((98304, 2), (98304,))"
      ]
     },
     "execution_count": 15,
     "metadata": {},
     "output_type": "execute_result"
    }
   ],
   "source": [
    "param_values = saltelli.sample(problem, 2**sample_points_2_index)\n",
    "Y = evaluate_APF(param_values)\n",
    "param_values.shape, Y.shape"
   ]
  },
  {
   "cell_type": "code",
   "execution_count": 16,
   "id": "a3f79f18",
   "metadata": {
    "scrolled": true
   },
   "outputs": [
    {
     "name": "stdout",
     "output_type": "stream",
     "text": [
      "              ST       ST_conf\n",
      "x1  1.370032e-09  4.458324e-07\n",
      "x2  1.000091e+00  1.758391e-04\n",
      "              S1   S1_conf\n",
      "x1  2.017483e-07  0.000005\n",
      "x2  1.000091e+00  1.419986\n",
      "                    S2   S2_conf\n",
      "(x1, x2) -4.007565e-07  0.000011\n",
      "\n"
     ]
    }
   ],
   "source": [
    "Si = sobol.analyze(problem, Y, print_to_console=True)\n",
    "print()"
   ]
  },
  {
   "cell_type": "code",
   "execution_count": null,
   "id": "dfe9336e",
   "metadata": {},
   "outputs": [],
   "source": []
  },
  {
   "cell_type": "code",
   "execution_count": null,
   "id": "682633cd",
   "metadata": {},
   "outputs": [],
   "source": []
  },
  {
   "cell_type": "code",
   "execution_count": null,
   "id": "19f186aa",
   "metadata": {},
   "outputs": [],
   "source": []
  },
  {
   "cell_type": "code",
   "execution_count": 24,
   "id": "79f4efb1",
   "metadata": {},
   "outputs": [
    {
     "data": {
      "text/plain": [
       "array([[[32.        , 32.        ],\n",
       "        [32.        , 16.        ],\n",
       "        [32.        , 10.66666667],\n",
       "        [32.        ,  8.        ]],\n",
       "\n",
       "       [[16.        , 32.        ],\n",
       "        [16.        , 16.        ],\n",
       "        [16.        , 10.66666667],\n",
       "        [16.        ,  8.        ]],\n",
       "\n",
       "       [[10.66666667, 32.        ],\n",
       "        [10.66666667, 16.        ],\n",
       "        [10.66666667, 10.66666667],\n",
       "        [10.66666667,  8.        ]],\n",
       "\n",
       "       [[ 8.        , 32.        ],\n",
       "        [ 8.        , 16.        ],\n",
       "        [ 8.        , 10.66666667],\n",
       "        [ 8.        ,  8.        ]]])"
      ]
     },
     "execution_count": 24,
     "metadata": {},
     "output_type": "execute_result"
    }
   ],
   "source": [
    "text = np.zeros(32)\n",
    "text = text.reshape(4,4,2)\n",
    "for i in range(4):\n",
    "    for j in range(4):\n",
    "        text[i,j] = (32.0/(i + 1),32.0/(j+1))\n",
    "        pass\n",
    "text"
   ]
  }
 ],
 "metadata": {
  "kernelspec": {
   "display_name": "Python [conda env:root] *",
   "language": "python",
   "name": "conda-root-py"
  },
  "language_info": {
   "codemirror_mode": {
    "name": "ipython",
    "version": 3
   },
   "file_extension": ".py",
   "mimetype": "text/x-python",
   "name": "python",
   "nbconvert_exporter": "python",
   "pygments_lexer": "ipython3",
   "version": "3.8.11"
  }
 },
 "nbformat": 4,
 "nbformat_minor": 5
}
