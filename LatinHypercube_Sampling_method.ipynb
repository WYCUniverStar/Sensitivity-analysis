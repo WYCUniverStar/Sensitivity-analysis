{
 "cells": [
  {
   "cell_type": "code",
   "execution_count": 19,
   "id": "6a85442f",
   "metadata": {},
   "outputs": [],
   "source": [
    "from scipy.stats import qmc\n",
    "from math import *\n",
    "import numpy as np\n",
    "a0 = 0.1\n",
    "b0 = 1\n",
    "a1 = 2\n",
    "b1 = 1\n",
    "sample_points_2_index = 28 #采样点，2^n个point"
   ]
  },
  {
   "cell_type": "code",
   "execution_count": 20,
   "id": "ebd47493",
   "metadata": {},
   "outputs": [
    {
     "data": {
      "text/plain": [
       "(array([[0.63606305, 0.37019953, 0.94339424],\n",
       "        [0.28111134, 0.42251089, 0.21391844],\n",
       "        [0.12657945, 0.2819187 , 0.33344868],\n",
       "        ...,\n",
       "        [0.19828788, 0.98786272, 0.16586564],\n",
       "        [0.08825148, 0.26564365, 0.06196446],\n",
       "        [0.48881703, 0.02444964, 0.33835041]]),\n",
       " (268435456, 3))"
      ]
     },
     "execution_count": 20,
     "metadata": {},
     "output_type": "execute_result"
    }
   ],
   "source": [
    "sampler = qmc.LatinHypercube(d=3)\n",
    "#sampler = qmc.LatinHypercube(d=3,optimization=\"random-cd\")\n",
    "sample = sampler.random(n=2**sample_points_2_index)\n",
    "sample,sample.shape"
   ]
  },
  {
   "cell_type": "code",
   "execution_count": 21,
   "id": "b424cdf8",
   "metadata": {},
   "outputs": [
    {
     "data": {
      "text/plain": [
       "(array([[ 0.85447596, -0.81514694,  2.78451582],\n",
       "        [-1.37462077, -0.48663163, -1.79659223],\n",
       "        [-2.34508107, -1.36955055, -1.04594226],\n",
       "        ...,\n",
       "        [-1.89475212,  3.0637779 , -2.09836379],\n",
       "        [-2.58578068, -1.4717579 , -2.75086319],\n",
       "        [-0.07022904, -2.98645626, -1.01515945]]),\n",
       " (268435456, 3))"
      ]
     },
     "execution_count": 21,
     "metadata": {},
     "output_type": "execute_result"
    }
   ],
   "source": [
    "l_bounds = -3.14\n",
    "u_bounds = 3.14\n",
    "fianl_sample = qmc.scale(sample, l_bounds, u_bounds)\n",
    "fianl_sample,fianl_sample.shape"
   ]
  },
  {
   "cell_type": "code",
   "execution_count": 22,
   "id": "ffa91048",
   "metadata": {},
   "outputs": [
    {
     "data": {
      "text/plain": [
       "(array([ 46.1492128 , -11.17744658,  -1.47455304, ..., -19.32646792,\n",
       "        -30.64260216,  -0.14230795]),\n",
       " (268435456,),\n",
       " array([ 47.15570212, -10.76192106,   0.34953045, ..., -19.31498637,\n",
       "        -28.76117767,  -0.09694575]),\n",
       " (268435456,))"
      ]
     },
     "execution_count": 22,
     "metadata": {},
     "output_type": "execute_result"
    }
   ],
   "source": [
    "f0 = np.sin(fianl_sample[:,0]) + a0*np.sin(fianl_sample[:,1])**2 + b0*fianl_sample[:,2]**4*np.sin(fianl_sample[:,0])\n",
    "f1 = np.sin(fianl_sample[:,0]) + a1*np.sin(fianl_sample[:,1])**2 + b1*fianl_sample[:,2]**4*np.sin(fianl_sample[:,0])\n",
    "f0,f0.shape,f1,f1.shape"
   ]
  },
  {
   "cell_type": "code",
   "execution_count": 23,
   "id": "9281835f",
   "metadata": {},
   "outputs": [
    {
     "data": {
      "text/plain": [
       "(0.04778255119839548, 545.2785512392118, 545.2785512392118)"
      ]
     },
     "execution_count": 23,
     "metadata": {},
     "output_type": "execute_result"
    }
   ],
   "source": [
    "aver_f0 = np.mean(f0)\n",
    "var_f0 = np.var(f0,ddof=0) # 第二个参数等于0代表就是正常的方差，如果算的是样本方差，就是分母是n-1的那个，则第二个参数设置为1\n",
    "aver_f0,var_f0,np.mean(abs(f0 - f0.mean())**2)"
   ]
  },
  {
   "cell_type": "code",
   "execution_count": 24,
   "id": "b1581eaf",
   "metadata": {},
   "outputs": [
    {
     "data": {
      "text/plain": [
       "(0.9982644041765645, 545.7773534934939, 545.7773534934939)"
      ]
     },
     "execution_count": 24,
     "metadata": {},
     "output_type": "execute_result"
    }
   ],
   "source": [
    "aver_f1 = np.mean(f1)\n",
    "var_f1 = np.var(f1,ddof=0) # 第二个参数等于0代表就是正常的方差，如果算的是样本方差，就是分母是n-1的那个，则第二个参数设置为1\n",
    "aver_f1,var_f1,np.mean(abs(f1 - f1.mean())**2)"
   ]
  },
  {
   "cell_type": "code",
   "execution_count": null,
   "id": "086ea930",
   "metadata": {},
   "outputs": [],
   "source": []
  }
 ],
 "metadata": {
  "kernelspec": {
   "display_name": "Python [conda env:root] *",
   "language": "python",
   "name": "conda-root-py"
  },
  "language_info": {
   "codemirror_mode": {
    "name": "ipython",
    "version": 3
   },
   "file_extension": ".py",
   "mimetype": "text/x-python",
   "name": "python",
   "nbconvert_exporter": "python",
   "pygments_lexer": "ipython3",
   "version": "3.8.11"
  }
 },
 "nbformat": 4,
 "nbformat_minor": 5
}
