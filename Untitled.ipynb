{
 "cells": [
  {
   "cell_type": "code",
   "execution_count": 1,
   "id": "b1d27b9b",
   "metadata": {},
   "outputs": [
    {
     "data": {
      "text/plain": [
       "(0.05002535971277557, 545.2264962432521, 1.0005072126910355, 545.7249930151016)"
      ]
     },
     "execution_count": 1,
     "metadata": {},
     "output_type": "execute_result"
    }
   ],
   "source": [
    "from scipy.stats import qmc\n",
    "from math import *\n",
    "import numpy as np\n",
    "a0 = 0.1\n",
    "b0 = 1\n",
    "a1 = 2\n",
    "b1 = 1\n",
    "sample_points_2_index = 25 #采样点，2^n个point\n",
    "\n",
    "sampler = qmc.Sobol(d=3, scramble=False)\n",
    "\n",
    "sample = sampler.random_base2(m=sample_points_2_index)\n",
    "\n",
    "l_bounds = -3.14\n",
    "u_bounds = 3.14\n",
    "\n",
    "fianl_sample = qmc.scale(sample, l_bounds, u_bounds)\n",
    "\n",
    "f0 = np.sin(fianl_sample[:,0]) + a0*np.sin(fianl_sample[:,1])**2 + b0*fianl_sample[:,2]**4*np.sin(fianl_sample[:,0])\n",
    "f1 = np.sin(fianl_sample[:,0]) + a1*np.sin(fianl_sample[:,1])**2 + b1*fianl_sample[:,2]**4*np.sin(fianl_sample[:,0])\n",
    "\n",
    "aver_f0 = np.mean(f0)\n",
    "var_f0 = np.var(f0,ddof=0) # 第二个参数等于0代表就是正常的方差，如果算的是样本方差，就是分母是n-1的那个，则第二个参数设置为1\n",
    "\n",
    "aver_f1 = np.mean(f1)\n",
    "var_f1 = np.var(f1,ddof=0) # 第二个参数等于0代表就是正常的方差，如果算的是样本方差，就是分母是n-1的那个，则第二个参数设置为1\n",
    "\n",
    "aver_f0,var_f0,aver_f1,var_f1\n"
   ]
  }
 ],
 "metadata": {
  "kernelspec": {
   "display_name": "Python [conda env:root] *",
   "language": "python",
   "name": "conda-root-py"
  },
  "language_info": {
   "codemirror_mode": {
    "name": "ipython",
    "version": 3
   },
   "file_extension": ".py",
   "mimetype": "text/x-python",
   "name": "python",
   "nbconvert_exporter": "python",
   "pygments_lexer": "ipython3",
   "version": "3.8.11"
  }
 },
 "nbformat": 4,
 "nbformat_minor": 5
}
